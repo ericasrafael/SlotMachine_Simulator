{
  "nbformat": 4,
  "nbformat_minor": 0,
  "metadata": {
    "colab": {
      "name": "exercicio03_SlotMachine.ipynb",
      "provenance": [],
      "collapsed_sections": [],
      "authorship_tag": "ABX9TyMgquuzMljWCNk/cYvRxLu2",
      "include_colab_link": true
    },
    "kernelspec": {
      "name": "python3",
      "display_name": "Python 3"
    },
    "language_info": {
      "name": "python"
    }
  },
  "cells": [
    {
      "cell_type": "markdown",
      "metadata": {
        "id": "view-in-github",
        "colab_type": "text"
      },
      "source": [
        "<a href=\"https://colab.research.google.com/github/ericasrafael/SlotMachine_Simulator/blob/main/exercicio03_SlotMachine.ipynb\" target=\"_parent\"><img src=\"https://colab.research.google.com/assets/colab-badge.svg\" alt=\"Open In Colab\"/></a>"
      ]
    },
    {
      "cell_type": "code",
      "source": [
        "!pip install emoji"
      ],
      "metadata": {
        "colab": {
          "base_uri": "https://localhost:8080/"
        },
        "id": "cxQ-NeGErOn-",
        "outputId": "0065596c-e1f8-47bc-d4c3-ba1e62ef68f2"
      },
      "execution_count": 74,
      "outputs": [
        {
          "output_type": "stream",
          "name": "stdout",
          "text": [
            "Requirement already satisfied: emoji in /usr/local/lib/python3.7/dist-packages (1.6.3)\n"
          ]
        }
      ]
    },
    {
      "cell_type": "code",
      "source": [
        "from random import randint\n",
        "from time import sleep\n",
        "from emoji import emojize"
      ],
      "metadata": {
        "id": "DrAXCW4irSOy"
      },
      "execution_count": 75,
      "outputs": []
    },
    {
      "cell_type": "code",
      "execution_count": 60,
      "metadata": {
        "id": "zzLuDRVxa4_E"
      },
      "outputs": [],
      "source": [
        "def SlotMachine():\n",
        "    nome = input('- Entre com seu nome: ')\n",
        "\n",
        "    while True:\n",
        "        fichas0 = input('- Quantas fichas você gostaria de comprar? ')\n",
        "        if fichas0.isdigit():   # verifique se todos os caracteres no texto são dígitos, se for, pode parar o loop\n",
        "            break               # método retorna True se todos os caracteres forem dígitos, caso contrário, False.\n",
        "           \n",
        "        else:\n",
        "            print('\\n**Entrada inválida! Tente novamente!')\n",
        "    \n",
        "    fichas = int(fichas0)  # lembrando que input sempre retorna uma string, preciss converter para inteiro\n",
        "\n",
        "    f1 = 'Seja muito bem vindo(a), {}!'.format(nome)\n",
        "    Linhas(f1.upper(), '*', '\\033[94m')  # chamada de função\n",
        "\n",
        "    Explicacao() # chamada de função\n",
        "\n",
        "    # começando o jogo\n",
        "\n",
        "    while fichas > 0:\n",
        "        print('-' * 70)\n",
        "        x = input('- Aperte ENTER para ativar a alavanca, ou digite SAIR, para finalizar o jogo! ')\n",
        "        if x.lower() == 'sair':\n",
        "            Linhas('Fim de jogo! Você saiu com um total de {} fichas'.format(fichas),'*','\\033[94m')\n",
        "            break\n",
        "        else:\n",
        "            jogo = Jogo()\n",
        "            fichas += jogo -1  # menos uma ficha, se tiver ganhado a rodada, tem fichas a mais, pois a função Jogo() retorna número de fichas\n",
        "            print('\\nSeu saldo atual de fichas é {}'.format(fichas))\n",
        "    else:\n",
        "        print('-I' * 80)\n",
        "        Linhas('Suas fichas acabaram! FIM DE JODO! Até a próxima hahah!','*','\\033[94m')\n"
      ]
    },
    {
      "cell_type": "code",
      "source": [
        "SlotMachine()"
      ],
      "metadata": {
        "colab": {
          "base_uri": "https://localhost:8080/"
        },
        "id": "aWSqRNCR5Ks3",
        "outputId": "92f0707a-6ce2-42cd-a308-0bc4b2e21c80"
      },
      "execution_count": 87,
      "outputs": [
        {
          "output_type": "stream",
          "name": "stdout",
          "text": [
            "- Entre com seu nome: Erica\n",
            "- Quantas fichas você gostaria de comprar? 4\n",
            "\u001b[94m\n",
            "\u001b[1m*********************************\n",
            " SEJA MUITO BEM VINDO(A), ERICA!\n",
            "*********************************\u001b[0m\n",
            "----------------------------------------------------------------------\n",
            "\u001b[1m\n",
            "Regras:\n",
            "\u001b[0m\n",
            "Acerte 🐝🐝🐝  >>>>  e ganhe 15 fichas!\n",
            "Acerte 🍒🍒🍒  >>>>  e ganhe 10 fichas!\n",
            "Acerte 🍌🍌🍌  >>>>  e ganhe 5 fichas!\n",
            "Acerte 🦊🦊🦊  >>>>  e ganhe 3 fichas!\n",
            "\u001b[1m\n",
            "Boa sorte! hahah\n",
            "\u001b[0m\n",
            "----------------------------------------------------------------------\n",
            "- Aperte ENTER para ativar a alavanca, ou digite SAIR, para finalizar o jogo! \n",
            "\n",
            "Alavanca acionada!    🦊...🦊...🍌\n",
            "\n",
            "Não foi dessa vez! :(\n",
            "\n",
            "Seu saldo atual de fichas é 3\n",
            "----------------------------------------------------------------------\n",
            "- Aperte ENTER para ativar a alavanca, ou digite SAIR, para finalizar o jogo! \n",
            "\n",
            "Alavanca acionada!    🍒...🦊...🍌\n",
            "\n",
            "Não foi dessa vez! :(\n",
            "\n",
            "Seu saldo atual de fichas é 2\n",
            "----------------------------------------------------------------------\n",
            "- Aperte ENTER para ativar a alavanca, ou digite SAIR, para finalizar o jogo! \n",
            "\n",
            "Alavanca acionada!    🍒...🐝...🍒\n",
            "\n",
            "Não foi dessa vez! :(\n",
            "\n",
            "Seu saldo atual de fichas é 1\n",
            "----------------------------------------------------------------------\n",
            "- Aperte ENTER para ativar a alavanca, ou digite SAIR, para finalizar o jogo! \n",
            "\n",
            "Alavanca acionada!    🍌...🦊...🍌\n",
            "\n",
            "Não foi dessa vez! :(\n",
            "\n",
            "Seu saldo atual de fichas é 0\n",
            "-I-I-I-I-I-I-I-I-I-I-I-I-I-I-I-I-I-I-I-I-I-I-I-I-I-I-I-I-I-I-I-I-I-I-I-I-I-I-I-I-I-I-I-I-I-I-I-I-I-I-I-I-I-I-I-I-I-I-I-I-I-I-I-I-I-I-I-I-I-I-I-I-I-I-I-I-I-I-I-I\n",
            "\u001b[94m\n",
            "\u001b[1m*********************************************************\n",
            " Suas fichas acabaram! FIM DE JODO! Até a próxima hahah!\n",
            "*********************************************************\u001b[0m\n"
          ]
        }
      ]
    },
    {
      "cell_type": "code",
      "source": [
        "def SimbolosPremios():\n",
        "    simbolos = [':honeybee:', ':cherries:', ':banana:', ':fox:']\n",
        "    premios = [15, 10, 5, 3]\n",
        "    return simbolos, premios"
      ],
      "metadata": {
        "id": "U0Z5MOeYrDHy"
      },
      "execution_count": 85,
      "outputs": []
    },
    {
      "cell_type": "code",
      "source": [
        "def Linhas(frase, simbolo = '*', cor = ''):\n",
        "    print(cor, end='')   # coloca uma cor no output\n",
        "    linha = (len(frase) + 2) * simbolo    # linha de asteriscos\n",
        "    print('\\n' + '\\033[1m' + linha)   # código para deixar negrito \\033[1m\n",
        "    print(' ' + frase)\n",
        "    print(linha + '\\033[0m') # código de encerrar a formatação -> tira do negrito \\033[0m"
      ],
      "metadata": {
        "id": "53MbRySJerLE"
      },
      "execution_count": 77,
      "outputs": []
    },
    {
      "cell_type": "code",
      "source": [
        "def Suspense(e1, e2, e3):     # função para processo de carregamento da alavanca\n",
        "    lista = ['\\nAlavanca acionada!    ', e1,'.','.','.', e2,'.','.','.', e3 + '\\n']\n",
        "    for i in lista:\n",
        "        print(i, end= '')  # end=' ' retira padrão de \\n ao se encerrar uma impressão, ou seja, a impressão seguinte fica ao lado\n",
        "        sleep(0.5)"
      ],
      "metadata": {
        "id": "DgYaJwWVzvDq"
      },
      "execution_count": 78,
      "outputs": []
    },
    {
      "cell_type": "code",
      "source": [
        "def Explicacao():\n",
        "    simbs, premios = SimbolosPremios()\n",
        "    sleep(1.5) # pausa por 1.5 segundos\n",
        "    print('-' * 70)\n",
        "    print('\\033[1m' + '\\nRegras:\\n' + '\\033[0m')\n",
        "    for i in range(len(simbs)):\n",
        "        print(emojize('Acerte ' + 3 * simbs[i] + '  >>>>  e ganhe {} fichas!'.format(premios[i], use_aliases = True)))\n",
        "    print('\\033[1m' + '\\nBoa sorte! hahah\\n' + '\\033[0m')\n"
      ],
      "metadata": {
        "id": "COSZy5cyg-qp"
      },
      "execution_count": 79,
      "outputs": []
    },
    {
      "cell_type": "code",
      "source": [
        "def Jogo():\n",
        "    simbs, premios = SimbolosPremios()\n",
        "    s = len(simbs)\n",
        "\n",
        "    s1 = randint(1, s) - 1  # randint retorna um número entre 1 e s (ambos incluídos)\n",
        "    s2 = randint(1, s) - 1\n",
        "    s3 = randint(1, s) - 1\n",
        "\n",
        "    Suspense(emojize(simbs[s1], use_aliases = True),\n",
        "             emojize(simbs[s2], use_aliases = True),\n",
        "             emojize(simbs[s3], use_aliases = True))\n",
        "    \n",
        "    if simbs[s1] == simbs[s2] == simbs[s3]:\n",
        "        premio = premios[simbs.index(simbs[s1])]\n",
        "        Linhas('***** GANHOU! *****','$','\\033[92m')\n",
        "        print('\\n' + '\\033[1m' + 'Seu prêmio é de {} fichas!'.format(premio) + '/033[0m')\n",
        "    else:\n",
        "        print('\\nNão foi dessa vez! :(')\n",
        "        premio = 0\n",
        "\n",
        "    return premio\n"
      ],
      "metadata": {
        "id": "ikUG5kpEuBn-"
      },
      "execution_count": 80,
      "outputs": []
    }
  ]
}